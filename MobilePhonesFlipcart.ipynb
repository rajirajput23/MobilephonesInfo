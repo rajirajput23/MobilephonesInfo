{
 "cells": [
  {
   "cell_type": "markdown",
   "id": "52273c27",
   "metadata": {},
   "source": [
    "The goal of this data scraping project is to collect detailed information about mobile phones priced under 50,000 rupees on Flipkart. By utilizing web scraping techniques, we will automatically extract crucial data points such as phone names, specifications, customer reviews, pricing. The dataset will help us compare different models, their specs, prices and reviews to decide the best buy."
   ]
  },
  {
   "cell_type": "code",
   "execution_count": 11,
   "id": "107804fa",
   "metadata": {},
   "outputs": [],
   "source": [
    "# Import necessary libraries to Scrape Data.\n",
    "\n",
    "import requests\n",
    "from bs4 import BeautifulSoup\n",
    "import pandas as pd\n",
    "\n",
    "#Creating list to store the Data Scrpaed from the website.\n",
    "\n",
    "P_names=[]\n",
    "P_prices=[]\n",
    "P_desc=[]\n",
    "P_reviews=[]\n"
   ]
  },
  {
   "cell_type": "code",
   "execution_count": 13,
   "id": "70c6ab2d",
   "metadata": {},
   "outputs": [
    {
     "name": "stdout",
     "output_type": "stream",
     "text": [
      "                                     Product Name Product prices  \\\n",
      "0        OnePlus 11R 5G (Galactic Silver, 256 GB)        ₹44,177   \n",
      "1                 APPLE iPhone 11 (Black, 128 GB)        ₹48,900   \n",
      "2                 APPLE iPhone 11 (White, 128 GB)        ₹48,900   \n",
      "3                                     Cellecor X3         ₹1,105   \n",
      "4      OnePlus 10 Pro 5G (Volcanic Black, 128 GB)        ₹48,490   \n",
      "..                                            ...            ...   \n",
      "475                 realme C30 (Lake Blue, 32 GB)         ₹6,499   \n",
      "476                   POCO M4 5G (Yellow, 128 GB)        ₹13,999   \n",
      "477  SAMSUNG Galaxy F23 5G (Copper Blush, 128 GB)        ₹15,499   \n",
      "478       MOTOROLA G62 5G (Midnight Gray, 128 GB)        ₹15,499   \n",
      "479                    POCO M5 (Icy Blue, 128 GB)        ₹10,999   \n",
      "\n",
      "                                  Product Descriptions Product Reviews  \n",
      "0    16 GB RAM | 256 GB ROM17.02 cm (6.7 inch) Disp...             4.6  \n",
      "1    128 GB ROM15.49 cm (6.1 inch) Liquid Retina HD...             4.6  \n",
      "2    128 GB ROM15.49 cm (6.1 inch) Liquid Retina HD...             4.6  \n",
      "3    32 MB RAM | 32 MB ROM | Expandable Upto 32 GB4...             3.3  \n",
      "4    8 GB RAM | 128 GB ROM17.02 cm (6.7 inch) Displ...             4.2  \n",
      "..                                                 ...             ...  \n",
      "475  3 GB RAM | 32 GB ROM | Expandable Upto 1 TB16....             4.1  \n",
      "476  6 GB RAM | 128 GB ROM | Expandable Upto 512 GB...             4.2  \n",
      "477  6 GB RAM | 128 GB ROM | Expandable Upto 1 TB16...             4.3  \n",
      "478  6 GB RAM | 128 GB ROM16.64 cm (6.55 inch) Full...             4.2  \n",
      "479  6 GB RAM | 128 GB ROM | Expandable Upto 512 GB...             4.2  \n",
      "\n",
      "[480 rows x 4 columns]\n"
     ]
    }
   ],
   "source": [
    "#Here we use the for loop to iterate between the range for urls to get data. \n",
    "\n",
    "for i in range(1,11):\n",
    "    url=\"https://www.flipkart.com/search?q=mobile+phones+under+50000&otracker=search&otracker1=search&marketplace=FLIPKART&as-show=on&as=off&page=\"+str(i)\n",
    "    r= requests.get(url)\n",
    "    \n",
    "    #Soup object to parse through the html\n",
    "    \n",
    "    soup= BeautifulSoup(r.text , \"html.parser\")\n",
    "    \n",
    "    #Here we have created the boxes variable as an object to parse through the elements available in the box only. \n",
    "    \n",
    "    boxes=soup.find_all(\"a\", class_=\"_1fQZEK\")\n",
    "    # now iterating through the boxes using for loop.\n",
    "    \n",
    "    for box in boxes:\n",
    "     \n",
    "    # Here we will get the names using box.find Method \n",
    "    #and then will append it to the list we have created above.\n",
    "        name=box.find(\"div\", class_=\"_4rR01T\").text\n",
    "        P_names.append(name)\n",
    "  # we will use try and except to catch exception from the data as if the box.find can't locate the price for some mobile phone.\n",
    "  # we will try to find the price but if there is an exception we will append null value to the price list. \n",
    "        try:\n",
    "            prices=box.find(\"div\",class_=\"_30jeq3 _1_WHN1\").text\n",
    "        except:\n",
    "            prices=\"\"\n",
    "        p_prices.append(prices)\n",
    "#similary for description \n",
    "        desc=box.find(\"ul\" , class_=\"_1xgFaf\").text\n",
    "        p_desc.append(desc)\n",
    "        \n",
    "#similarly for reviews        \n",
    "        reviews=box.find(\"div\" ,class_=\"_3LWZlK\").text\n",
    "        p_reviews.append(reviews)\n",
    "            \n",
    "#Here we will create DataFrame to allign the data in a meaningful form and will be called DataSet.\n",
    "df=pd.DataFrame({\"Product Name\": P_names, \"Product prices\": p_prices , \"Product Descriptions\": p_desc, \"Product Reviews\": p_reviews })\n",
    "print(df)\n",
    "\n",
    "# Here the dataframe will be converted into a csv file and saved. \n",
    "df.to_csv(\"Mobiles Info.csv\")\n",
    "\n",
    "   "
   ]
  },
  {
   "cell_type": "code",
   "execution_count": null,
   "id": "1ab5c804",
   "metadata": {},
   "outputs": [],
   "source": []
  },
  {
   "cell_type": "code",
   "execution_count": null,
   "id": "c825c756",
   "metadata": {},
   "outputs": [],
   "source": []
  },
  {
   "cell_type": "code",
   "execution_count": null,
   "id": "78a8958a",
   "metadata": {},
   "outputs": [],
   "source": []
  },
  {
   "cell_type": "code",
   "execution_count": null,
   "id": "ebaca6e0",
   "metadata": {},
   "outputs": [],
   "source": [
    "\n",
    "\n"
   ]
  },
  {
   "cell_type": "code",
   "execution_count": null,
   "id": "d4560ef2",
   "metadata": {},
   "outputs": [],
   "source": []
  },
  {
   "cell_type": "code",
   "execution_count": null,
   "id": "7574db08",
   "metadata": {},
   "outputs": [],
   "source": []
  }
 ],
 "metadata": {
  "kernelspec": {
   "display_name": "Python 3 (ipykernel)",
   "language": "python",
   "name": "python3"
  },
  "language_info": {
   "codemirror_mode": {
    "name": "ipython",
    "version": 3
   },
   "file_extension": ".py",
   "mimetype": "text/x-python",
   "name": "python",
   "nbconvert_exporter": "python",
   "pygments_lexer": "ipython3",
   "version": "3.10.9"
  }
 },
 "nbformat": 4,
 "nbformat_minor": 5
}
